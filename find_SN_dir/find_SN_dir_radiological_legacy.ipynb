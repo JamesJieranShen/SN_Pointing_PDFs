{
 "cells": [
  {
   "cell_type": "code",
   "execution_count": 1,
   "id": "38b819fd-f28f-4f7e-9ff4-5f1989de097a",
   "metadata": {},
   "outputs": [
    {
     "name": "stdout",
     "output_type": "stream",
     "text": [
      "Welcome to JupyROOT 6.24/06\n"
     ]
    }
   ],
   "source": [
    "from abc import ABCMeta, abstractmethod\n",
    "\n",
    "from scipy.optimize import brute, optimize\n",
    "from scipy.interpolate import interp2d\n",
    "from scipy.stats import mode\n",
    "import ROOT\n",
    "import math\n",
    "from typing import Callable\n",
    "\n",
    "import numpy as np\n",
    "# import jax.numpy as np\n",
    "# import numpy as rnp\n",
    "import matplotlib.pyplot as plt"
   ]
  },
  {
   "cell_type": "markdown",
   "id": "f1afa8fc",
   "metadata": {},
   "source": [
    "## Define fitting procedure"
   ]
  },
  {
   "cell_type": "code",
   "execution_count": 2,
   "id": "72806da1",
   "metadata": {},
   "outputs": [],
   "source": [
    "class PDF(metaclass=ABCMeta):\n",
    "    name: str\n",
    "\n",
    "    def __init__(self, name=None):\n",
    "        self.name = name\n",
    "\n",
    "    @abstractmethod\n",
    "    def eval(self, energy, cos_angle):\n",
    "        pass\n",
    "\n",
    "\n",
    "class NumericPDF(PDF):\n",
    "    \"\"\"Pointing information about a particular type of interaction (such as electron scattering).\"\"\"\n",
    "    name: str\n",
    "    energy_min: float\n",
    "    energy_max: float\n",
    "    energy_bin_width: float\n",
    "\n",
    "    cosAngle_min: float\n",
    "    cosAngle_max: float\n",
    "    cosAngle_bin_width: float\n",
    "\n",
    "    interpolation: str | None\n",
    "    pdf: np.ndarray\n",
    "    pdf_linear: Callable\n",
    "    pdf_cubic: Callable\n",
    "\n",
    "    def __init__(self, name, energy_binning, cosAngle_binning, pdf, interpolation=None):\n",
    "        super().__init__(name)\n",
    "        (self.energy_min, self.energy_max, self.energy_bin_width) = energy_binning\n",
    "        (self.cosAngle_min, self.cosAngle_max, self.cosAngle_bin_width) = cosAngle_binning\n",
    "        self.pdf = pdf\n",
    "        assert interpolation in (None, 'linear', 'cubic'), print(\"Interpolation modes are None, linear, cubic\")\n",
    "        self.interpolation = interpolation\n",
    "        energy_coords = np.arange(0, len(pdf))\n",
    "        cos_angle_coords = np.arange(0, len(pdf[0]))\n",
    "        self.pdf_linear = interp2d(energy_coords, cos_angle_coords, np.transpose(pdf),\n",
    "                                   bounds_error=False, fill_value=None, kind='linear')\n",
    "        self.pdf_cubic = interp2d(energy_coords, cos_angle_coords, np.transpose(pdf),\n",
    "                                  bounds_error=False, fill_value=None, kind='cubic')\n",
    "\n",
    "    def eval(self, energy, cos_angle):\n",
    "        if energy > self.energy_max:\n",
    "            return 1.0\n",
    "        energy_bin = (energy - self.energy_min) / self.energy_bin_width if energy > 0 else 0\n",
    "        cos_angle_nbins = round((self.cosAngle_max - self.cosAngle_min) / self.cosAngle_bin_width)\n",
    "        cos_angle_bin = (cos_angle - self.cosAngle_min) / self.cosAngle_bin_width\n",
    "        cos_angle_bin = min(cos_angle_bin, cos_angle_nbins - 1)  # guard against cosAngle = 1\n",
    "        if self.interpolation == 'linear':\n",
    "            return self.pdf_linear(energy, cos_angle)\n",
    "        elif self.interpolation == 'cubic':\n",
    "            return self.pdf_cubic(energy, cos_angle)\n",
    "        # no interpolation\n",
    "        return self.pdf[int(energy_bin), int(cos_angle_bin)]\n",
    "\n",
    "\n",
    "class ParametricPDF(PDF):\n",
    "#     energy_min: float\n",
    "#     energy_max: float\n",
    "#     energy_bin_width: float\n",
    "    energy_binning: np.ndarray\n",
    "    params: np.ndarray\n",
    "\n",
    "    def eval(self, energy, cos_angle):\n",
    "#         if energy > self.energy_max:\n",
    "#             return 1.0\n",
    "        #energy_bin = int((energy - self.energy_min) / self.energy_bin_width) if energy > 0 else 0\n",
    "        energy_bin = np.searchsorted(self.energy_binning, energy)\n",
    "        (g_1, g_2, sigma_1, sigma_2, c) = self.params[energy_bin]\n",
    "        return  g_1 * np.exp(- (cos_angle + 1) / sigma_1) + g_2 * np.exp((cos_angle - 1) / sigma_2) + c\n",
    "        \n",
    "\n",
    "    def __init__(self, name, energy_binning, params):\n",
    "        super().__init__(name)\n",
    "        # (self.energy_min, self.energy_max, self.energy_bin_width) = energy_binning\n",
    "        self.energy_binning = np.asarray(energy_binning)\n",
    "        self.params = params"
   ]
  },
  {
   "cell_type": "code",
   "execution_count": 3,
   "id": "5fd5dc3b",
   "metadata": {
    "jupyter": {
     "outputs_hidden": false
    },
    "pycharm": {
     "name": "#%%\n"
    }
   },
   "outputs": [],
   "source": [
    "def load_pdf_numeric(pdf_path, name=None):\n",
    "    with open(pdf_path) as f:\n",
    "        energy_binning = np.loadtxt(f, max_rows=1)\n",
    "        cosAngle_binning = np.loadtxt(f, max_rows=1)\n",
    "        pdf = np.loadtxt(f)\n",
    "    # return energy_binning, cosAngle_binning, pdf\n",
    "    return NumericPDF(name, energy_binning, cosAngle_binning, pdf)\n",
    "\n",
    "\n",
    "def load_pdf_parameterized(pdf_path, name=None):\n",
    "    with open(pdf_path) as f:\n",
    "        energy_binning = np.loadtxt(f, max_rows=1)\n",
    "        cosAngle_binning = np.loadtxt(f, max_rows=1)\n",
    "        params = np.loadtxt(f)\n",
    "\n",
    "    return ParametricPDF(name, energy_binning, params)"
   ]
  },
  {
   "cell_type": "code",
   "execution_count": 4,
   "id": "38d22315-9d90-45d6-ad75-ed4a9cc76c8e",
   "metadata": {},
   "outputs": [],
   "source": [
    "def charge_to_energy_clean(charge):\n",
    "    m = 259.218\n",
    "    b = 901.312\n",
    "    return (charge - b) / m\n",
    "\n",
    "\n",
    "def charge_to_energy_radio(charge):\n",
    "    m = 248.111\n",
    "    b = 2161.06\n",
    "    return (charge - b) / m\n",
    "\n",
    "\n",
    "def load_SN_file(filepath, with_radio=False):\n",
    "    file = ROOT.TFile(filepath)\n",
    "    tree = file.PointResTree.tr\n",
    "    # nevts = tree.GetEntries()\n",
    "    energies = []\n",
    "    directions = []\n",
    "    ievt = 0\n",
    "    charge_to_energy = charge_to_energy_radio if with_radio else charge_to_energy_clean\n",
    "\n",
    "    for event in tree:\n",
    "        if event.NTrks == 0:\n",
    "            continue\n",
    "        energies.append(charge_to_energy(event.charge_corrected))\n",
    "\n",
    "        directions.append([\n",
    "            event.reco_e_dir.X(),\n",
    "            event.reco_e_dir.Y(),\n",
    "            event.reco_e_dir.Z()\n",
    "        ])\n",
    "        ievt += 1\n",
    "    return np.asarray(energies), np.asarray(directions)\n",
    "\n",
    "\n",
    "def get_truth_SN_dir(filepath):\n",
    "    file = ROOT.TFile(filepath)\n",
    "    tree = file.PointResTree.tr\n",
    "    for event in tree:\n",
    "        return np.array([event.truth_nu_dir.Theta(), event.truth_nu_dir.Phi()])\n",
    "\n",
    "\n",
    "def sphere_to_xyz(direction):\n",
    "    # [theta, phi] -> [x, y, z]\n",
    "    return np.array([\n",
    "        math.sin(direction[0]) * math.cos(direction[1]),\n",
    "        math.sin(direction[0]) * math.sin(direction[1]),\n",
    "        math.cos(direction[0])\n",
    "    ])\n",
    "\n",
    "\n",
    "def xyz_to_sphere(direction):\n",
    "    # [x, y, z] => [theta, phi]\n",
    "    # Identical to TVector3.Theta(), TVector3.Phi()\n",
    "    direction_normalized = np.asarray(direction / np.linalg.norm(direction))\n",
    "    phi = np.arctan2(direction_normalized[1], direction_normalized[0])\n",
    "    perp = np.linalg.norm(direction_normalized[:2])\n",
    "    theta = np.arctan2(perp, direction_normalized[2])\n",
    "    return np.asarray([theta, phi])"
   ]
  },
  {
   "cell_type": "code",
   "execution_count": 5,
   "id": "a0eb6a55-8601-453f-885f-1b3d44fced64",
   "metadata": {},
   "outputs": [],
   "source": [
    "class SupernovaPointing:\n",
    "    \"\"\"Class used to hold information about each supernova, and generate its loss function.\n",
    "    \"\"\"\n",
    "    # Parallel list corresponding to each type of interaction\n",
    "    PDFs: list[PDF]\n",
    "    # tuple is [energy, direction]\n",
    "    events_per_interaction: list[tuple[np.ndarray, np.ndarray]]\n",
    "    weights: list[float]\n",
    "    truth_dir: np.ndarray\n",
    "    default_interpolation_type: str\n",
    "\n",
    "    def __init__(self, PDFs, sn_event_files, weights=None, with_radio=False):\n",
    "\n",
    "        \"\"\"Class Constructor\n",
    "        Args:\n",
    "            @param PDFs: List of interaction information objects.\n",
    "            @param sn_event_files: List of paths to ROOT files associated to each interaction.\n",
    "            @param weights: Weight of each interaction. If None, they are all set to 1. Defaults to None.\n",
    "        \"\"\"\n",
    "        self.PDFs = PDFs\n",
    "        self.events_per_interaction = []\n",
    "        for path in sn_event_files:\n",
    "            self.events_per_interaction.append(load_SN_file(path, with_radio=with_radio))\n",
    "        self.truth_dir = get_truth_SN_dir(sn_event_files[0])\n",
    "        self.weights = [1.0] * len(self.events_per_interaction) if weights is None else weights\n",
    "\n",
    "    def loss(self, sn_dir, weighting_factor=0, zero_bin=1e-4):\n",
    "        \"\"\"\n",
    "\n",
    "        @param sn_dir: supernova direction, in form (theta, phi)\n",
    "        @param weighting_factor: a linear weighting factor. Positive value biases higher energy bins. 0 means equal\n",
    "        weighting.\n",
    "        @param zero_bin: values to treat zero as (in preventing log(0)).\n",
    "        @return: negative of log(likelihood)\n",
    "        \"\"\"\n",
    "        sn_dir_xyz = sphere_to_xyz(sn_dir)\n",
    "        loss = 0\n",
    "\n",
    "        for pdf, events, weight in zip(self.PDFs, self.events_per_interaction, self.weights):\n",
    "            interaction_loss = 0\n",
    "            energies = events[0]\n",
    "            cos_angles = events[1].dot(sn_dir_xyz)\n",
    "            for energy, cos_angle in zip(energies, cos_angles):\n",
    "                # # treat overly energetic events as having the same energy as PDF maxima\n",
    "                if energy < 10:\n",
    "                    continue\n",
    "                pdf_value = pdf.eval(energy, cos_angle)\n",
    "                # weighting formula is 1 + w * energy/100. Weight = 1 means 100MeV is doubly weighted\n",
    "                pdf_value *= (1 + (energy/100) * weighting_factor)\n",
    "                interaction_loss -= np.log(pdf_value)\n",
    "            loss += interaction_loss * weight\n",
    "        return loss\n",
    "    \n",
    "    def most_populated_dir(self, energy_cutoff=10):\n",
    "        for events in self.events_per_interaction:\n",
    "            directions = events[1][events[0]>energy_cutoff]\n",
    "            width=0.05\n",
    "            bins = np.floor(directions/width)\n",
    "            # print(mode(bins).mode)\n",
    "            dir_xyz = mode(bins).mode.flatten()*width\n",
    "            return xyz_to_sphere(dir_xyz)\n",
    "    \n",
    "    def high_energy_event_direction(self, votes = 10):\n",
    "        # Let the highest energy directions vote\n",
    "        for events in self.events_per_interaction:\n",
    "            idxs = np.argpartition(events[0], -votes)[-votes:]\n",
    "            directions = []\n",
    "            for idx in idxs:\n",
    "                energy = events[0][idx]\n",
    "                direction = events[1][idx]\n",
    "                directions.append(direction)\n",
    "            directions = np.asarray(directions)\n",
    "            width = 0.25\n",
    "            bins = np.floor(directions/width)\n",
    "            dir_xyz = mode(bins).mode.flatten()*width\n",
    "            return xyz_to_sphere(dir_xyz)\n",
    "            \n",
    "\n",
    "            "
   ]
  },
  {
   "cell_type": "markdown",
   "id": "63cf5bfe",
   "metadata": {},
   "source": [
    "## Fitting Procedure"
   ]
  },
  {
   "cell_type": "code",
   "execution_count": 6,
   "id": "432d36e3",
   "metadata": {},
   "outputs": [],
   "source": [
    "ES_param = load_pdf_parameterized(\"/media/linux_store/hep/data/pdf/ES_gvkm_radiological_0201_pdf_param.dat\", name=\"ES\")\n",
    "ES_numeric = load_pdf_numeric(\"/media/linux_store/hep/data/pdf/ES_gvkm_radiological_0201_pdf.dat\", name=\"ES\")\n",
    "directory = \"/media/linux_store/hep/data/SN_radio/SN_ana_radiological/\""
   ]
  },
  {
   "cell_type": "code",
   "execution_count": 11,
   "id": "c34c6d5b-c282-43ee-91ef-6cd67ab01398",
   "metadata": {},
   "outputs": [
    {
     "name": "stdout",
     "output_type": "stream",
     "text": [
      "[ 2.37999443 -1.87226229]\n",
      "[ 2.25607876 -1.8888417 ]\n",
      "Loss = 450.198090143566\n",
      "CPU times: user 80.8 ms, sys: 30.3 ms, total: 111 ms\n",
      "Wall time: 1.39 s\n"
     ]
    }
   ],
   "source": [
    "%%time\n",
    "# Testing with a single file\n",
    "import os\n",
    "\n",
    "from scipy.optimize import brute, fmin\n",
    "SN_pointer = SupernovaPointing([ES_numeric], [directory + \"ES_PointResTree_29536379_100.root\"], with_radio=True)\n",
    "def loss_func(x):\n",
    "    return SN_pointer.loss(x)\n",
    "res = brute(loss_func, ([0, np.pi], [-np.pi, np.pi]), Ns=100, full_output=True, workers=6, finish=None)\n",
    "# res = minimize(loss, np.array([np.pi/2, 0]), args=args, method = 'Nelder-Mead')\n",
    "print(res[0])\n",
    "print(SN_pointer.truth_dir)\n",
    "print(f\"Loss = {loss_func(SN_pointer.truth_dir)}\")"
   ]
  },
  {
   "cell_type": "markdown",
   "id": "02d358f8",
   "metadata": {},
   "source": [
    "ES Only: [0.856798   0.82506474]"
   ]
  },
  {
   "cell_type": "code",
   "execution_count": 12,
   "id": "96a76762-a3f7-435f-90ef-c633014cb4b6",
   "metadata": {},
   "outputs": [
    {
     "data": {
      "text/plain": [
       "7.133803748488294"
      ]
     },
     "execution_count": 12,
     "metadata": {},
     "output_type": "execute_result"
    },
    {
     "data": {
      "image/png": "[encoded data removed]",
      "text/plain": [
       "<Figure size 960x720 with 2 Axes>"
      ]
     },
     "metadata": {
      "needs_background": "light"
     },
     "output_type": "display_data"
    }
   ],
   "source": [
    "def error(pointer: SupernovaPointing, result, full_output = False, unit='deg'):\n",
    "    assert unit in ['rad', 'deg'], \"Unit must be deg or rad.\"\n",
    "    if full_output:\n",
    "        x0 = result[0]\n",
    "    else:\n",
    "        x0 = result\n",
    "    \n",
    "    angle = np.arccos(sphere_to_xyz(pointer.truth_dir).dot(sphere_to_xyz(x0)))\n",
    "    return angle if unit=='rad' else angle*180/np.pi\n",
    "\n",
    "def details(pointer: SupernovaPointing, result: tuple):\n",
    "    # result [x0, fval, grid, jout]\n",
    "    (x0, fval, grid, jout) = result\n",
    "    plt.figure(figsize=(8, 6), dpi=120)\n",
    "    plt.imshow(jout, extent=[-np.pi, np.pi, np.pi, 0], origin='upper', aspect='auto')\n",
    "    plt.plot(pointer.truth_dir[1], pointer.truth_dir[0], 'r*', label=\"True Direction\")\n",
    "    plt.plot(x0[1], x0[0], 'g*', label='Minimization Result')\n",
    "    plt.colorbar()\n",
    "    plt.legend()\n",
    "    plt.title('Supernova Pointing Result')\n",
    "    plt.xlabel(r'$\\phi$')\n",
    "    plt.ylabel(r'$\\theta$')\n",
    "    dot = sphere_to_xyz(pointer.truth_dir).dot(sphere_to_xyz(x0))\n",
    "    \n",
    "    # return degree deviation between minimization and truth\n",
    "    return np.arccos(dot)*180/np.pi\n",
    "\n",
    "details(SN_pointer, res)\n",
    "# error(SN_pointer, res)\n",
    "\n"
   ]
  },
  {
   "cell_type": "code",
   "execution_count": 15,
   "id": "b483ac96-c784-4e89-a23f-92e92e81062e",
   "metadata": {},
   "outputs": [
    {
     "name": "stdout",
     "output_type": "stream",
     "text": [
      "[ 2.33908424 -1.87995275]\n",
      "[ 2.25607876 -1.8888417 ]\n",
      "CPU times: user 144 ms, sys: 4.84 ms, total: 148 ms\n",
      "Wall time: 138 ms\n"
     ]
    }
   ],
   "source": [
    "%%time\n",
    "# Testing with a single file\n",
    "\n",
    "import os\n",
    "from scipy.optimize import minimize\n",
    "SN_pointer = SupernovaPointing([ES_param], [directory + \"ES_PointResTree_29536379_100.root\"], with_radio=True)\n",
    "def loss_func(x):\n",
    "    return SN_pointer.loss(x)\n",
    "first = minimize(loss_func, np.array([np.pi/2, 0]))\n",
    "second_direction_xyz = -1 * sphere_to_xyz(first.x)\n",
    "second_direction_sphere = xyz_to_sphere(second_direction_xyz)\n",
    "second = minimize(loss_func, second_direction_sphere)\n",
    "final_dir = second.x if second.fun < first.fun else first.x\n",
    "\n",
    "# res = minimize(loss, np.array([np.pi/2, 0]), args=args, method = 'Nelder-Mead')\n",
    "print(final_dir)\n",
    "print(SN_pointer.truth_dir)\n",
    "# print(f\"Loss = {loss_func(SN_pointer.truth_dir)}\")"
   ]
  },
  {
   "cell_type": "markdown",
   "id": "597b1611",
   "metadata": {},
   "source": [
    "## Batch fitting"
   ]
  },
  {
   "cell_type": "code",
   "execution_count": 13,
   "id": "79162e6f-503b-4713-9747-0174c5fe796c",
   "metadata": {},
   "outputs": [
    {
     "name": "stdout",
     "output_type": "stream",
     "text": [
      "Found 853 supernova files\n"
     ]
    }
   ],
   "source": [
    "# Parse files\n",
    "\n",
    "\n",
    "ES_files = os.listdir(directory)\n",
    "SN_file_tuples = []\n",
    "for ES_file in ES_files:\n",
    "        SN_file_tuples.append([directory+ES_file])\n",
    "        continue\n",
    "    ## Corresponding CC File doesnt exist\n",
    "    # print(f\"Corresponding CC File not found for {ES_file}.\")\n",
    "\n",
    "print(f\"Found {len(SN_file_tuples)} supernova files\")"
   ]
  },
  {
   "cell_type": "code",
   "execution_count": 11,
   "id": "766b0e95",
   "metadata": {},
   "outputs": [
    {
     "name": "stderr",
     "output_type": "stream",
     "text": [
      "  3%|▎         | 25/853 [00:05<03:09,  4.37it/s]Exception ignored in: <function _releaseLock at 0x7fc570e1e4d0>\n",
      "Traceback (most recent call last):\n",
      "  File \"/usr/lib/python3.10/logging/__init__.py\", line 228, in _releaseLock\n",
      "    def _releaseLock():\n",
      "KeyboardInterrupt: \n",
      " 16%|█▌        | 133/853 [00:30<03:02,  3.96it/s]"
     ]
    }
   ],
   "source": [
    "# Brute force grid search\n",
    "\n",
    "errors = []\n",
    "from tqdm import tqdm\n",
    "\n",
    "for SN_file_tuple in tqdm(SN_file_tuples):\n",
    "    SN_pointer = SupernovaPointing([ES_numeric], [SN_file_tuple[0]])\n",
    "    # SN_pointer = SupernovaPointing([ES_param], [SN_file_tuple[0]])\n",
    "    def loss_func(x):\n",
    "        return SN_pointer.loss(x)\n",
    "    res = brute(loss_func, ([0, np.pi], [0, 2*np.pi]), Ns=25, \n",
    "                full_output=False, workers=6, finish=fmin)\n",
    "    errors.append(error(SN_pointer, res))\n",
    "\n"
   ]
  },
  {
   "cell_type": "code",
   "execution_count": 37,
   "id": "5d84755c",
   "metadata": {
    "pycharm": {
     "name": "#%%\n"
    }
   },
   "outputs": [
    {
     "data": {
      "text/plain": [
       "6.493769630965954"
      ]
     },
     "execution_count": 37,
     "metadata": {},
     "output_type": "execute_result"
    },
    {
     "data": {
      "image/png": "[encoded data removed]",
      "text/plain": [
       "<Figure size 432x288 with 1 Axes>"
      ]
     },
     "metadata": {
      "needs_background": "light"
     },
     "output_type": "display_data"
    }
   ],
   "source": [
    "errors = np.asarray(errors)\n",
    "plt.hist(errors[errors < 90])\n",
    "plt.title(f\"Angle between reco and truth SN direction (ES + radiological)\\n68% Confidence Interval: {np.quantile(errors, 0.68):.2f}\\nFlipped Supernovas: {errors[errors>90].size}\")\n",
    "plt.xlabel(\"Degrees\")\n",
    "np.quantile(errors, 0.68)"
   ]
  },
  {
   "cell_type": "code",
   "execution_count": 16,
   "id": "d691f39f",
   "metadata": {
    "scrolled": true
   },
   "outputs": [
    {
     "name": "stderr",
     "output_type": "stream",
     "text": [
      "100%|██████████| 853/853 [03:48<00:00,  3.73it/s]\n"
     ]
    },
    {
     "ename": "NameError",
     "evalue": "name 'chisq' is not defined",
     "output_type": "error",
     "traceback": [
      "\u001b[0;31m---------------------------------------------------------------------------\u001b[0m",
      "\u001b[0;31mNameError\u001b[0m                                 Traceback (most recent call last)",
      "\u001b[1;32m/media/linux_store/hep/SN_pointing_scripts/make_PDF/find_SN_dir_radiological.ipynb Cell 17'\u001b[0m in \u001b[0;36m<module>\u001b[0;34m\u001b[0m\n\u001b[1;32m     <a href='vscode-notebook-cell:/media/linux_store/hep/SN_pointing_scripts/make_PDF/find_SN_dir_radiological.ipynb#ch0000016?line=27'>28</a>\u001b[0m np\u001b[39m.\u001b[39mquantile(errors, \u001b[39m0.68\u001b[39m)\n\u001b[1;32m     <a href='vscode-notebook-cell:/media/linux_store/hep/SN_pointing_scripts/make_PDF/find_SN_dir_radiological.ipynb#ch0000016?line=29'>30</a>\u001b[0m plt\u001b[39m.\u001b[39mfigure()\n\u001b[0;32m---> <a href='vscode-notebook-cell:/media/linux_store/hep/SN_pointing_scripts/make_PDF/find_SN_dir_radiological.ipynb#ch0000016?line=30'>31</a>\u001b[0m plt\u001b[39m.\u001b[39mhist(chisq)\n\u001b[1;32m     <a href='vscode-notebook-cell:/media/linux_store/hep/SN_pointing_scripts/make_PDF/find_SN_dir_radiological.ipynb#ch0000016?line=31'>32</a>\u001b[0m plt\u001b[39m.\u001b[39mtitle(\u001b[39m\"\u001b[39m\u001b[39m$\u001b[39m\u001b[39m\\\u001b[39m\u001b[39mDelta \u001b[39m\u001b[39m\\\u001b[39m\u001b[39mchi^2$\u001b[39m\u001b[39m\"\u001b[39m)\n",
      "\u001b[0;31mNameError\u001b[0m: name 'chisq' is not defined"
     ]
    },
    {
     "data": {
      "image/png": "[encoded data removed]",
      "text/plain": [
       "<Figure size 432x288 with 1 Axes>"
      ]
     },
     "metadata": {
      "needs_background": "light"
     },
     "output_type": "display_data"
    },
    {
     "data": {
      "text/plain": [
       "<Figure size 432x288 with 0 Axes>"
      ]
     },
     "metadata": {},
     "output_type": "display_data"
    }
   ],
   "source": [
    "# Do all the fits\n",
    "\n",
    "errors = []\n",
    "from tqdm import tqdm\n",
    "dchisq = []\n",
    "for SN_file_tuple in tqdm(SN_file_tuples):\n",
    "    # SN_pointer = SupernovaPointing([ES_numeric], [SN_file_tuple[0]])\n",
    "    SN_pointer = SupernovaPointing([ES_param], [SN_file_tuple[0]])\n",
    "    def loss_func(x):\n",
    "        return SN_pointer.loss(x)\n",
    "    \n",
    "#     res = minimize(loss_func, SN_pointer.high_energy_event_direction())\n",
    "#     final_dir = res.x\n",
    "    \n",
    "    first = minimize(loss_func, np.array([np.pi/2, 0]))\n",
    "    second_direction_xyz = -1 * sphere_to_xyz(first.x)\n",
    "    second_direction_sphere = xyz_to_sphere(second_direction_xyz)\n",
    "    second = minimize(loss_func, second_direction_sphere)\n",
    "    dchisq.append(abs(second.fun - first.fun))\n",
    "    final_dir = second.x if second.fun < first.fun else first.x\n",
    "    errors.append(error(SN_pointer, final_dir))\n",
    "\n",
    "plt.figure()\n",
    "errors = np.asarray(errors)\n",
    "plt.hist(errors)\n",
    "plt.title(f\"Angle between reco and truth SN direction (ES + radiological)\\n68% Confidence Interval: {np.quantile(errors, 0.68):.2f}\\nFlipped Supernovas: {errors[errors>90].size}\")\n",
    "plt.xlabel(\"Degrees\")\n",
    "np.quantile(errors, 0.68)\n",
    "\n",
    "plt.figure()\n",
    "plt.hist(dchisq)\n",
    "plt.title(\"$\\Delta \\chi^2$\")\n"
   ]
  },
  {
   "cell_type": "code",
   "execution_count": 19,
   "id": "15faa4aa",
   "metadata": {},
   "outputs": [
    {
     "data": {
      "text/plain": [
       "Text(0.5, 1.0, '$\\\\Delta \\\\chi^2$')"
      ]
     },
     "execution_count": 19,
     "metadata": {},
     "output_type": "execute_result"
    },
    {
     "data": {
      "image/png": "[encoded data removed]",
      "text/plain": [
       "<Figure size 432x288 with 1 Axes>"
      ]
     },
     "metadata": {
      "needs_background": "light"
     },
     "output_type": "display_data"
    }
   ],
   "source": [
    "np.quantile(errors, 0.68)\n",
    "plt.figure()\n",
    "plt.hist(call_closeness)\n",
    "plt.title(\"$\\Delta \\chi^2$\")"
   ]
  },
  {
   "cell_type": "code",
   "execution_count": 24,
   "id": "dfdb2ef9",
   "metadata": {},
   "outputs": [
    {
     "data": {
      "text/plain": [
       "Text(0, 0.5, '$\\\\cos(\\\\theta)$')"
      ]
     },
     "execution_count": 24,
     "metadata": {},
     "output_type": "execute_result"
    },
    {
     "data": {
      "image/png": "[encoded data removed]",
      "text/plain": [
       "<Figure size 432x288 with 1 Axes>"
      ]
     },
     "metadata": {
      "needs_background": "light"
     },
     "output_type": "display_data"
    }
   ],
   "source": [
    "file_idx = 731\n",
    "(energies, directions) = load_SN_file(SN_file_tuples[file_idx][0], with_radio=True)\n",
    "truth_dir = sphere_to_xyz(get_truth_SN_dir(SN_file_tuples[file_idx][0]))\n",
    "cosAngle = np.dot(directions, truth_dir)\n",
    "plt.plot(energies, cosAngle, 'k.', markersize=4)\n",
    "plt.title(f\"Energy and $\\cos(\\\\theta)$ distribution\\n File ID = {file_idx}\")\n",
    "plt.xlabel(\"Energy (MeV)\")\n",
    "plt.ylabel(r\"$\\cos(\\theta)$\")"
   ]
  },
  {
   "cell_type": "code",
   "execution_count": 25,
   "id": "0e9f5899",
   "metadata": {},
   "outputs": [
    {
     "name": "stdout",
     "output_type": "stream",
     "text": [
      "Loss at global minimum: 398.14178395368924\n",
      "Loss at true SN direction: 398.32614350915924\n",
      "Closeness: -0.18435955546999594\n"
     ]
    },
    {
     "ename": "NameError",
     "evalue": "name 'details' is not defined",
     "output_type": "error",
     "traceback": [
      "\u001b[0;31m---------------------------------------------------------------------------\u001b[0m",
      "\u001b[0;31mNameError\u001b[0m                                 Traceback (most recent call last)",
      "Input \u001b[0;32mIn [25]\u001b[0m, in \u001b[0;36m<module>\u001b[0;34m\u001b[0m\n\u001b[1;32m      7\u001b[0m \u001b[38;5;28mprint\u001b[39m(\u001b[38;5;124mf\u001b[39m\u001b[38;5;124m\"\u001b[39m\u001b[38;5;124mLoss at true SN direction: \u001b[39m\u001b[38;5;132;01m{\u001b[39;00mloss_func(SN_pointer\u001b[38;5;241m.\u001b[39mtruth_dir)\u001b[38;5;132;01m}\u001b[39;00m\u001b[38;5;124m\"\u001b[39m)\n\u001b[1;32m      8\u001b[0m \u001b[38;5;28mprint\u001b[39m(\u001b[38;5;124mf\u001b[39m\u001b[38;5;124m\"\u001b[39m\u001b[38;5;124mCloseness: \u001b[39m\u001b[38;5;132;01m{\u001b[39;00mres[\u001b[38;5;241m1\u001b[39m] \u001b[38;5;241m-\u001b[39m loss_func(SN_pointer\u001b[38;5;241m.\u001b[39mtruth_dir)\u001b[38;5;132;01m}\u001b[39;00m\u001b[38;5;124m\"\u001b[39m)\n\u001b[0;32m----> 9\u001b[0m \u001b[43mdetails\u001b[49m(SN_pointer, res)\n",
      "\u001b[0;31mNameError\u001b[0m: name 'details' is not defined"
     ]
    }
   ],
   "source": [
    "SN_pointer = SupernovaPointing([ES_param], [SN_file_tuples[file_idx][0]], with_radio=True)\n",
    "def loss_func(x):\n",
    "    return SN_pointer.loss(x)\n",
    "\n",
    "res = brute(loss_func, ([0, np.pi], [-np.pi, np.pi]), Ns=100, full_output=True, workers=6, finish=None)\n",
    "print(f\"Loss at global minimum: {res[1]}\")\n",
    "print(f\"Loss at true SN direction: {loss_func(SN_pointer.truth_dir)}\")\n",
    "print(f\"Closeness: {res[1] - loss_func(SN_pointer.truth_dir)}\")\n",
    "details(SN_pointer, res)\n",
    "\n",
    "## Use Minimization\n",
    "# res = minimize(loss_func, x0=SN_pointer.high_energy_event_direction())\n",
    "# print(res.x)\n",
    "# print(SN_pointer.truth_dir)"
   ]
  },
  {
   "cell_type": "code",
   "execution_count": null,
   "id": "056f4051",
   "metadata": {},
   "outputs": [],
   "source": []
  }
 ],
 "metadata": {
  "kernelspec": {
   "display_name": "Python 3 (ipykernel)",
   "language": "python",
   "name": "python3"
  },
  "language_info": {
   "codemirror_mode": {
    "name": "ipython",
    "version": 3
   },
   "file_extension": ".py",
   "mimetype": "text/x-python",
   "name": "python",
   "nbconvert_exporter": "python",
   "pygments_lexer": "ipython3",
   "version": "3.10.2"
  }
 },
 "nbformat": 4,
 "nbformat_minor": 5
}
