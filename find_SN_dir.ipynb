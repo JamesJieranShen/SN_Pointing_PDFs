{
 "cells": [
  {
   "cell_type": "code",
   "execution_count": 3,
   "id": "38b819fd-f28f-4f7e-9ff4-5f1989de097a",
   "metadata": {},
   "outputs": [
    {
     "name": "stdout",
     "output_type": "stream",
     "text": [
      "Welcome to JupyROOT 6.24/06\n"
     ]
    }
   ],
   "source": [
    "import ROOT\n",
    "import math\n",
    "from typing import Callable\n",
    "\n",
    "import numpy as np\n",
    "import matplotlib.pyplot as plt"
   ]
  },
  {
   "cell_type": "markdown",
   "id": "f1afa8fc",
   "metadata": {},
   "source": [
    "## Define fitting procedure"
   ]
  },
  {
   "cell_type": "code",
   "execution_count": 4,
   "id": "72806da1",
   "metadata": {},
   "outputs": [],
   "source": [
    "from scipy.interpolate import interp2d\n",
    "\n",
    "\n",
    "class Interaction:\n",
    "    \"\"\"Pointing information about a particular type of interaction (such as electron scattering).\"\"\"\n",
    "    name: str\n",
    "    energy_min:         float\n",
    "    energy_max:         float\n",
    "    energy_binwidth:    float\n",
    "\n",
    "    cosAngle_min:       float\n",
    "    cosAngle_max:       float\n",
    "    cosAngle_binwidth:  float\n",
    "\n",
    "    pdf:                np.ndarray\n",
    "    pdf_linear:         Callable\n",
    "    pdf_cubic:          Callable\n",
    "\n",
    "    def __init__(self, name, energy_binning, cosAngle_binning, pdf):\n",
    "        self.name = name\n",
    "        (self.energy_min, self.energy_max, self.energy_binwidth) = energy_binning\n",
    "        (self.cosAngle_min, self.cosAngle_max, self.cosAngle_binwidth) = cosAngle_binning\n",
    "        self.pdf = pdf\n",
    "        energy_coords = np.arange(0, len(pdf))\n",
    "        cosAngle_coords = np.arange(0, len(pdf[0]))\n",
    "        self.pdf_linear = interp2d(energy_coords, cosAngle_coords, np.transpose(pdf), \n",
    "                bounds_error=False, fill_value=None, kind='linear')\n",
    "        self.pdf_cubic  = interp2d(energy_coords, cosAngle_coords, np.transpose(pdf), \n",
    "                bounds_error=False, fill_value=None, kind='cubic')\n",
    "\n",
    "\n",
    "def load_pdf(pdf_path, name=None):\n",
    "    with open(pdf_path) as f:\n",
    "        energy_binning = np.loadtxt(f, max_rows=1)\n",
    "        cosAngle_binning = np.loadtxt(f, max_rows=1)\n",
    "        pdf = np.loadtxt(f)\n",
    "    # return energy_binning, cosAngle_binning, pdf\n",
    "    return Interaction(name, energy_binning, cosAngle_binning, pdf)\n",
    "\n",
    "\n",
    "ES = load_pdf(\"/media/linux_store/hep/data/pdf/ES_gvkm_clean_0127_pdf.dat\", name=\"ES\")\n",
    "CC = load_pdf(\"/media/linux_store/hep/data/pdf/CC_gvkm_clean_0127_pdf.dat\", name=\"CC\")\n",
    "\n",
    "      \n",
    "\n"
   ]
  },
  {
   "cell_type": "code",
   "execution_count": 5,
   "id": "38d22315-9d90-45d6-ad75-ed4a9cc76c8e",
   "metadata": {},
   "outputs": [],
   "source": [
    "def charge_to_energy_clean(charge):\n",
    "    m = 259.218\n",
    "    b = 901.312\n",
    "    return (charge - b)/m\n",
    "\n",
    "\n",
    "def load_SN_file(filepath):\n",
    "    file = ROOT.TFile(filepath)\n",
    "    tree = file.PointResTree.tr\n",
    "    # nevts = tree.GetEntries()\n",
    "    energies = []\n",
    "    directions = []\n",
    "\n",
    "    ievt = 0\n",
    "    for event in tree:\n",
    "        if(event.NTrks == 0):\n",
    "            continue\n",
    "        energies.append(charge_to_energy_clean(event.charge_corrected))\n",
    "\n",
    "        directions.append([\n",
    "            event.reco_e_dir.X(),\n",
    "            event.reco_e_dir.Y(),\n",
    "            event.reco_e_dir.Z()\n",
    "        ])\n",
    "        ievt += 1\n",
    "    return np.asarray(energies), np.asarray(directions)\n",
    "\n",
    "\n",
    "def get_truth_SN_dir(filepath):\n",
    "    file = ROOT.TFile(filepath)\n",
    "    tree = file.PointResTree.tr\n",
    "    for event in tree:\n",
    "        return np.array([event.truth_nu_dir.Theta(), event.truth_nu_dir.Phi()])\n",
    "\n",
    "\n",
    "def sphere_to_xyz(direction):\n",
    "    # [theta, phi] -> [x, y, z]\n",
    "    return np.array([\n",
    "        math.sin(direction[0])*math.cos(direction[1]),\n",
    "        math.sin(direction[0])*math.sin(direction[1]),\n",
    "        math.cos(direction[0])\n",
    "    ])\n",
    "\n"
   ]
  },
  {
   "cell_type": "code",
   "execution_count": 6,
   "id": "a0eb6a55-8601-453f-885f-1b3d44fced64",
   "metadata": {},
   "outputs": [],
   "source": [
    "\n",
    "\n",
    "class Supsernova_Pointing:\n",
    "    \"\"\"Class used to hold information about each supernova, and generate its loss function.\n",
    "    \"\"\"\n",
    "    # Parallel list corresponding to each type of interaction\n",
    "    interactions:   list[Interaction]\n",
    "    # tuple is [energy, direction]\n",
    "    events_per_interaction:      list[tuple[np.ndarray, np.ndarray]]\n",
    "    weights:        list[float]\n",
    "    truth_dir:      np.ndarray\n",
    "    default_interpolation_type:  str\n",
    "\n",
    "    def __init__(self, interactions, sn_event_files, default_interpolation_type=None, weights=None):\n",
    "        \"\"\"Class Constructor\n",
    "\n",
    "        Args:\n",
    "            interactions (list[Interaction]): List of interaction information objects.\n",
    "            sn_event_files (list[str]): List of paths to ROOT files associated to each interaction.\n",
    "            default_interpolation_type (str, optional): Type of interpolation. Can be None (no interpolation), 'linear', or 'cubic. Defaults to None.\n",
    "            weights (list[float], optional): Weight of each interaction. If None, they are all set to 1. Defaults to None.\n",
    "        \"\"\"\n",
    "        self.interactions = interactions\n",
    "        self.events_per_interaction = []\n",
    "        for path in sn_event_files:\n",
    "            self.events_per_interaction.append(load_SN_file(path))\n",
    "        self.truth_dir = get_truth_SN_dir(sn_event_files[0])\n",
    "        self.weights = [1.0]*len(self.events_per_interaction) if weights==None else weights\n",
    "        \n",
    "        assert default_interpolation_type in [None, 'cubic', 'linear'], \"Invalid interpolation type.\"\n",
    "        self.default_interpolation_type = default_interpolation_type\n",
    "\n",
    "\n",
    "    def loss(self, SN_dir, interpolation_override=None, weighting_factor=0):\n",
    "        \"\"\"loss function to minimize\n",
    "\n",
    "        Args:\n",
    "            SN_dir (np.ndarray): Guessed direction of the neutrino in format [theta, phi]\n",
    "            interpolation_override (str, optional): Override interpolation of default type. Defaults to default_interpolation_type.\n",
    "            weighting_factor (float, optional): A linear weighting factor. Each energy bin is weighted by (1+ energy_bin*weighting factor). Defaults to 0.\n",
    "        \"\"\"\n",
    "        SN_dir_xyz = sphere_to_xyz(SN_dir)\n",
    "        loss = 0\n",
    "        interpolation = interpolation_override if interpolation_override != None else self.default_interpolation_type\n",
    "        assert interpolation in [None, 'cubic', 'linear'], \"Invalid interpolation type.\"\n",
    "\n",
    "        for interaction, events, weight in zip(self.interactions, self.events_per_interaction, self.weights):\n",
    "            interaction_loss = 0\n",
    "            energies  = events[0]\n",
    "            cosAngles = events[1].dot(SN_dir_xyz)\n",
    "            for energy, cosAngle in zip(energies, cosAngles):\n",
    "                # # treat overly energetic events as having the same energy as PDF maxima\n",
    "                if energy >= interaction.energy_max:\n",
    "                    pdf_value = 1.0\n",
    "                else:\n",
    "                    if energy < 10: continue\n",
    "                    energy_bin = (energy - interaction.energy_min)/interaction.energy_binwidth\n",
    "\n",
    "                    cosAngle_bin = (cosAngle - interaction.cosAngle_min)/interaction.cosAngle_binwidth\n",
    "                    cosAngle_bin = min(cosAngle_bin, len(cosAngles)-1) # guard against cosAngle = 1\n",
    "                    if interpolation == None:\n",
    "                        pdf_value = interaction.pdf[int(energy_bin), int(cosAngle_bin)]\n",
    "                    elif interpolation == 'linear':\n",
    "                        pdf_value = interaction.pdf_linear(energy_bin, cosAngle_bin)[0]\n",
    "                    elif interpolation == 'cubic':\n",
    "                        pdf_value = interaction.pdf_cubic(energy_bin, cosAngle_bin)[0]\n",
    "                \n",
    "                pdf_value *= (1 + energy_bin * weighting_factor)\n",
    "\n",
    "                # interaction_loss -= np.sqrt(pdf_value) if pdf_value>0 else 0\n",
    "                # interaction_loss += - np.log(pdf_value) if pdf_value > 0 else 10\n",
    "                interaction_loss -= pdf_value\n",
    "            loss += interaction_loss * weight\n",
    "        return loss\n",
    "\n",
    "            "
   ]
  },
  {
   "cell_type": "code",
   "execution_count": 7,
   "id": "c34c6d5b-c282-43ee-91ef-6cd67ab01398",
   "metadata": {},
   "outputs": [
    {
     "name": "stdout",
     "output_type": "stream",
     "text": [
      "(7, 20)\n",
      "[0.856798   0.72986496]\n",
      "[1.03487709 0.77481472]\n",
      "Loss = -11.250554876604358\n"
     ]
    }
   ],
   "source": [
    "# Testing with a single file\n",
    "import os\n",
    "\n",
    "\n",
    "directory = \"/media/linux_store/hep/data/SN/\"\n",
    "\n",
    "from scipy.optimize import brute, fmin\n",
    "SN_pointer = Supsernova_Pointing([ES], [directory + \"/ES_ana/ES_PointResTree_52828358_11.root\"])\n",
    "def loss_func(x):\n",
    "    return SN_pointer.loss(x, interpolation_override=None)\n",
    "print(SN_pointer.interactions[0].pdf.shape)\n",
    "res = brute(loss_func, ([0, np.pi], [-np.pi, np.pi]), Ns=100, full_output=True, workers=6, finish=None)\n",
    "# res = minimize(loss, np.array([np.pi/2, 0]), args=args, method = 'Nelder-Mead')\n",
    "print(res[0])\n",
    "print(SN_pointer.truth_dir)\n",
    "print(f\"Loss = {loss_func(SN_pointer.truth_dir)}\")"
   ]
  },
  {
   "cell_type": "markdown",
   "id": "02d358f8",
   "metadata": {},
   "source": [
    "ES Only: [0.856798   0.82506474]"
   ]
  },
  {
   "cell_type": "code",
   "execution_count": 8,
   "id": "96a76762-a3f7-435f-90ef-c633014cb4b6",
   "metadata": {},
   "outputs": [
    {
     "data": {
      "text/plain": [
       "10.413331870560805"
      ]
     },
     "execution_count": 8,
     "metadata": {},
     "output_type": "execute_result"
    },
    {
     "data": {
      "image/png": "[encoded data removed]",
      "text/plain": [
       "<Figure size 960x720 with 2 Axes>"
      ]
     },
     "metadata": {
      "needs_background": "light"
     },
     "output_type": "display_data"
    }
   ],
   "source": [
    "def error(pointer: Supsernova_Pointing, result, full_output = False, unit='deg'):\n",
    "    assert unit in ['rad', 'deg'], \"Unit must be deg or rad.\"\n",
    "    if full_output:\n",
    "        x0 = result[0]\n",
    "    else:\n",
    "        x0 = result\n",
    "    \n",
    "    angle = np.arccos(sphere_to_xyz(pointer.truth_dir).dot(sphere_to_xyz(x0)))\n",
    "    return angle if unit=='rad' else angle*180/np.pi\n",
    "\n",
    "def details(pointer: Supsernova_Pointing, result: tuple):\n",
    "    # result [x0, fval, grid, jout]\n",
    "    (x0, fval, grid, jout) = result\n",
    "    plt.figure(figsize=(8, 6), dpi=120)\n",
    "    plt.imshow(jout, extent=[-np.pi, np.pi, np.pi, 0], origin='upper', aspect='auto')\n",
    "    plt.plot(pointer.truth_dir[1], pointer.truth_dir[0], 'r*', label=\"True Direction\")\n",
    "    plt.plot(x0[1], x0[0], 'g*', label='Minimization Result')\n",
    "    plt.colorbar()\n",
    "    plt.legend()\n",
    "    plt.title('Supernova Pointing Result')\n",
    "    plt.xlabel(r'$\\phi$')\n",
    "    plt.ylabel(r'$\\theta$')\n",
    "    dot = sphere_to_xyz(pointer.truth_dir).dot(sphere_to_xyz(x0))\n",
    "    \n",
    "    # return degree deviation between minimization and truth\n",
    "    return np.arccos(dot)*180/np.pi\n",
    "\n",
    "details(SN_pointer, res)\n",
    "# error(SN_pointer, res)\n",
    "\n"
   ]
  },
  {
   "cell_type": "markdown",
   "id": "597b1611",
   "metadata": {},
   "source": [
    "## Batch fitting"
   ]
  },
  {
   "cell_type": "code",
   "execution_count": 9,
   "id": "79162e6f-503b-4713-9747-0174c5fe796c",
   "metadata": {},
   "outputs": [
    {
     "name": "stdout",
     "output_type": "stream",
     "text": [
      "Found 905 supernova files\n"
     ]
    }
   ],
   "source": [
    "# Parse files\n",
    "\n",
    "# directory = \"/media/linux_store/hep/data/SN/\"\n",
    "\n",
    "ES_files = os.listdir(directory + \"ES_ana\")\n",
    "CC_files = os.listdir(directory + \"CC_ana\")\n",
    "SN_file_tuples = []\n",
    "for ES_file in ES_files:\n",
    "    CC_file = ES_file.replace('ES', 'CC')\n",
    "    if(CC_file) in CC_files:\n",
    "        SN_file_tuples.append((\n",
    "            directory + \"ES_ana/\" + ES_file,\n",
    "            directory + \"CC_ana/\" + CC_file\n",
    "        ))\n",
    "        continue\n",
    "    ## Corresponding CC File doesnt exist\n",
    "    # print(f\"Corresponding CC File not found for {ES_file}.\")\n",
    "\n",
    "print(f\"Found {len(SN_file_tuples)} supernova files\")"
   ]
  },
  {
   "cell_type": "code",
   "execution_count": 10,
   "id": "766b0e95",
   "metadata": {},
   "outputs": [],
   "source": [
    "# Do all the fits\n",
    "\n",
    "# errors = []\n",
    "# from tqdm import tqdm, trange\n",
    "# for SN_file_tuple in tqdm(SN_file_tuples):\n",
    "#     SN_pointer = Supsernova_Pointing([ES], [SN_file_tuple[0]])\n",
    "\n",
    "#     def loss_func(x):\n",
    "#         return SN_pointer.loss(x, interpolation_override=None)\n",
    "#     res = brute(loss_func, ([0, np.pi], [0, 2*np.pi]), Ns=20, \n",
    "#                 full_output=False, workers=6, finish=fmin)\n",
    "#     errors.append(error(SN_pointer, res))\n",
    "    \n",
    "# plt.hist(errors)\n",
    "# plt.title(\"Angle between reco and truth SN direction (ES only, clean)\")\n",
    "# plt.xlabel(\"Degrees\")\n",
    "# np.quantile(errors, 0.66)"
   ]
  },
  {
   "cell_type": "code",
   "execution_count": 13,
   "id": "d691f39f",
   "metadata": {},
   "outputs": [
    {
     "name": "stderr",
     "output_type": "stream",
     "text": [
      "Weight = 0.0: 100%|██████████| 905/905 [01:48<00:00,  8.31it/s]\n"
     ]
    },
    {
     "name": "stdout",
     "output_type": "stream",
     "text": [
      "7.443128101644091\n"
     ]
    },
    {
     "name": "stderr",
     "output_type": "stream",
     "text": [
      "Weight = 0.2: 100%|██████████| 905/905 [01:48<00:00,  8.30it/s]\n"
     ]
    },
    {
     "name": "stdout",
     "output_type": "stream",
     "text": [
      "7.397397266620088\n"
     ]
    },
    {
     "name": "stderr",
     "output_type": "stream",
     "text": [
      "Weight = 0.4: 100%|██████████| 905/905 [01:48<00:00,  8.35it/s]\n"
     ]
    },
    {
     "name": "stdout",
     "output_type": "stream",
     "text": [
      "7.3330835499922316\n"
     ]
    },
    {
     "name": "stderr",
     "output_type": "stream",
     "text": [
      "Weight = 0.6000000000000001: 100%|██████████| 905/905 [01:42<00:00,  8.84it/s]\n"
     ]
    },
    {
     "name": "stdout",
     "output_type": "stream",
     "text": [
      "7.281813051837022\n"
     ]
    },
    {
     "name": "stderr",
     "output_type": "stream",
     "text": [
      "Weight = 0.8: 100%|██████████| 905/905 [01:42<00:00,  8.84it/s]\n"
     ]
    },
    {
     "name": "stdout",
     "output_type": "stream",
     "text": [
      "7.264279050982504\n"
     ]
    }
   ],
   "source": [
    "# Hyper parameter search for a fit\n",
    "from tqdm import tqdm, trange\n",
    "def weight_search(w):\n",
    "    errors = []\n",
    "    for SN_file_tuple in tqdm(SN_file_tuples, leave=False):\n",
    "        SN_pointer = Supsernova_Pointing([ES], [SN_file_tuple[0]])\n",
    "\n",
    "        def loss_func(x):\n",
    "            return SN_pointer.loss(x, interpolation_override=None, weighting_factor=w)\n",
    "        res = brute(loss_func, ([0, np.pi], [0, 2*np.pi]), Ns=25, \n",
    "                    full_output=False, workers=6, finish=fmin)\n",
    "        errors.append(error(SN_pointer, res))\n",
    "    return np.quantile(errors, 0.66)\n",
    "\n",
    "weights = np.arange(0.0, 1, 0.2)\n",
    "error_for_weight = []\n",
    "for w in weights:\n",
    "    errors = []\n",
    "    for SN_file_tuple in tqdm(SN_file_tuples, desc=f\"Weight = {w}\"):\n",
    "        SN_pointer = Supsernova_Pointing([ES], [SN_file_tuple[0]])\n",
    "\n",
    "        def loss_func(x):\n",
    "            return SN_pointer.loss(x, interpolation_override=None, weighting_factor=w)\n",
    "        res = brute(loss_func, ([0, np.pi], [0, 2*np.pi]), Ns=25, \n",
    "                    full_output=False, workers=10, finish=fmin)\n",
    "        errors.append(error(SN_pointer, res))\n",
    "    print(np.quantile(errors, 0.66))\n",
    "    error_for_weight.append(np.quantile(errors, 0.66))"
   ]
  },
  {
   "cell_type": "code",
   "execution_count": 14,
   "id": "bac74d39",
   "metadata": {},
   "outputs": [
    {
     "name": "stderr",
     "output_type": "stream",
     "text": [
      "Weight = 1.0: 100%|██████████| 905/905 [01:51<00:00,  8.11it/s]\n"
     ]
    },
    {
     "name": "stdout",
     "output_type": "stream",
     "text": [
      "7.297865887109069\n"
     ]
    },
    {
     "name": "stderr",
     "output_type": "stream",
     "text": [
      "Weight = 1.2: 100%|██████████| 905/905 [01:49<00:00,  8.24it/s]\n"
     ]
    },
    {
     "name": "stdout",
     "output_type": "stream",
     "text": [
      "7.2878992754444525\n"
     ]
    },
    {
     "name": "stderr",
     "output_type": "stream",
     "text": [
      "Weight = 1.4: 100%|██████████| 905/905 [01:49<00:00,  8.26it/s]\n"
     ]
    },
    {
     "name": "stdout",
     "output_type": "stream",
     "text": [
      "7.28551586107534\n"
     ]
    },
    {
     "name": "stderr",
     "output_type": "stream",
     "text": [
      "Weight = 1.5999999999999999: 100%|██████████| 905/905 [01:50<00:00,  8.20it/s]\n"
     ]
    },
    {
     "name": "stdout",
     "output_type": "stream",
     "text": [
      "7.28551586107534\n"
     ]
    },
    {
     "name": "stderr",
     "output_type": "stream",
     "text": [
      "Weight = 1.7999999999999998: 100%|██████████| 905/905 [01:49<00:00,  8.30it/s]\n"
     ]
    },
    {
     "name": "stdout",
     "output_type": "stream",
     "text": [
      "7.28551586107534\n"
     ]
    },
    {
     "name": "stderr",
     "output_type": "stream",
     "text": [
      "Weight = 1.9999999999999998: 100%|██████████| 905/905 [01:49<00:00,  8.30it/s]\n"
     ]
    },
    {
     "name": "stdout",
     "output_type": "stream",
     "text": [
      "7.26910832033936\n"
     ]
    },
    {
     "name": "stderr",
     "output_type": "stream",
     "text": [
      "Weight = 2.1999999999999997: 100%|██████████| 905/905 [01:50<00:00,  8.17it/s]\n"
     ]
    },
    {
     "name": "stdout",
     "output_type": "stream",
     "text": [
      "7.235546535189784\n"
     ]
    }
   ],
   "source": [
    "weights = np.arange(1.0, 2.2, 0.2)\n",
    "error_for_weight = []\n",
    "for w in weights:\n",
    "    errors = []\n",
    "    for SN_file_tuple in tqdm(SN_file_tuples, desc=f\"Weight = {w}\"):\n",
    "        SN_pointer = Supsernova_Pointing([ES], [SN_file_tuple[0]])\n",
    "\n",
    "        def loss_func(x):\n",
    "            return SN_pointer.loss(x, interpolation_override=None, weighting_factor=w)\n",
    "        res = brute(loss_func, ([0, np.pi], [0, 2*np.pi]), Ns=25, \n",
    "                    full_output=False, workers=10, finish=fmin)\n",
    "        errors.append(error(SN_pointer, res))\n",
    "    print(np.quantile(errors, 0.66))\n",
    "    error_for_weight.append(np.quantile(errors, 0.66))"
   ]
  },
  {
   "cell_type": "code",
   "execution_count": 15,
   "id": "378a937e",
   "metadata": {},
   "outputs": [
    {
     "name": "stderr",
     "output_type": "stream",
     "text": [
      "Weight = 2.5: 100%|██████████| 905/905 [01:48<00:00,  8.37it/s]\n"
     ]
    },
    {
     "name": "stdout",
     "output_type": "stream",
     "text": [
      "7.243512304420289\n"
     ]
    },
    {
     "name": "stderr",
     "output_type": "stream",
     "text": [
      "Weight = 3.0: 100%|██████████| 905/905 [01:49<00:00,  8.29it/s]\n"
     ]
    },
    {
     "name": "stdout",
     "output_type": "stream",
     "text": [
      "7.227836539462238\n"
     ]
    },
    {
     "name": "stderr",
     "output_type": "stream",
     "text": [
      "Weight = 3.5: 100%|██████████| 905/905 [01:48<00:00,  8.32it/s]\n"
     ]
    },
    {
     "name": "stdout",
     "output_type": "stream",
     "text": [
      "7.227836539462238\n"
     ]
    },
    {
     "name": "stderr",
     "output_type": "stream",
     "text": [
      "Weight = 4.0: 100%|██████████| 905/905 [01:48<00:00,  8.32it/s]\n"
     ]
    },
    {
     "name": "stdout",
     "output_type": "stream",
     "text": [
      "7.216957761132664\n"
     ]
    },
    {
     "name": "stderr",
     "output_type": "stream",
     "text": [
      "Weight = 4.5: 100%|██████████| 905/905 [01:49<00:00,  8.26it/s]\n"
     ]
    },
    {
     "name": "stdout",
     "output_type": "stream",
     "text": [
      "7.217688326282483\n"
     ]
    },
    {
     "name": "stderr",
     "output_type": "stream",
     "text": [
      "Weight = 5.0: 100%|██████████| 905/905 [01:55<00:00,  7.86it/s]\n"
     ]
    },
    {
     "name": "stdout",
     "output_type": "stream",
     "text": [
      "7.217688326282483\n"
     ]
    },
    {
     "name": "stderr",
     "output_type": "stream",
     "text": [
      "Weight = 5.5: 100%|██████████| 905/905 [01:44<00:00,  8.64it/s]\n"
     ]
    },
    {
     "name": "stdout",
     "output_type": "stream",
     "text": [
      "7.2157606769828355\n"
     ]
    },
    {
     "name": "stderr",
     "output_type": "stream",
     "text": [
      "Weight = 6.0: 100%|██████████| 905/905 [01:52<00:00,  8.06it/s]\n"
     ]
    },
    {
     "name": "stdout",
     "output_type": "stream",
     "text": [
      "7.216957761132664\n"
     ]
    },
    {
     "name": "stderr",
     "output_type": "stream",
     "text": [
      "Weight = 6.5: 100%|██████████| 905/905 [01:54<00:00,  7.89it/s]\n"
     ]
    },
    {
     "name": "stdout",
     "output_type": "stream",
     "text": [
      "7.216957761132664\n"
     ]
    },
    {
     "name": "stderr",
     "output_type": "stream",
     "text": [
      "Weight = 7.0:   1%|          | 8/905 [00:01<02:16,  6.56it/s]\n"
     ]
    },
    {
     "ename": "KeyboardInterrupt",
     "evalue": "",
     "output_type": "error",
     "traceback": [
      "\u001b[0;31m---------------------------------------------------------------------------\u001b[0m",
      "\u001b[0;31mKeyboardInterrupt\u001b[0m                         Traceback (most recent call last)",
      "\u001b[0;32m/tmp/ipykernel_81575/346692395.py\u001b[0m in \u001b[0;36m<module>\u001b[0;34m\u001b[0m\n\u001b[1;32m      8\u001b[0m         \u001b[0;32mdef\u001b[0m \u001b[0mloss_func\u001b[0m\u001b[0;34m(\u001b[0m\u001b[0mx\u001b[0m\u001b[0;34m)\u001b[0m\u001b[0;34m:\u001b[0m\u001b[0;34m\u001b[0m\u001b[0;34m\u001b[0m\u001b[0m\n\u001b[1;32m      9\u001b[0m             \u001b[0;32mreturn\u001b[0m \u001b[0mSN_pointer\u001b[0m\u001b[0;34m.\u001b[0m\u001b[0mloss\u001b[0m\u001b[0;34m(\u001b[0m\u001b[0mx\u001b[0m\u001b[0;34m,\u001b[0m \u001b[0minterpolation_override\u001b[0m\u001b[0;34m=\u001b[0m\u001b[0;32mNone\u001b[0m\u001b[0;34m,\u001b[0m \u001b[0mweighting_factor\u001b[0m\u001b[0;34m=\u001b[0m\u001b[0mw\u001b[0m\u001b[0;34m)\u001b[0m\u001b[0;34m\u001b[0m\u001b[0;34m\u001b[0m\u001b[0m\n\u001b[0;32m---> 10\u001b[0;31m         res = brute(loss_func, ([0, np.pi], [0, 2*np.pi]), Ns=25, \n\u001b[0m\u001b[1;32m     11\u001b[0m                     full_output=False, workers=10, finish=fmin)\n\u001b[1;32m     12\u001b[0m         \u001b[0merrors\u001b[0m\u001b[0;34m.\u001b[0m\u001b[0mappend\u001b[0m\u001b[0;34m(\u001b[0m\u001b[0merror\u001b[0m\u001b[0;34m(\u001b[0m\u001b[0mSN_pointer\u001b[0m\u001b[0;34m,\u001b[0m \u001b[0mres\u001b[0m\u001b[0;34m)\u001b[0m\u001b[0;34m)\u001b[0m\u001b[0;34m\u001b[0m\u001b[0;34m\u001b[0m\u001b[0m\n",
      "\u001b[0;32m~/.local/lib/python3.10/site-packages/scipy/optimize/optimize.py\u001b[0m in \u001b[0;36mbrute\u001b[0;34m(func, ranges, args, Ns, full_output, finish, disp, workers)\u001b[0m\n\u001b[1;32m   3326\u001b[0m     \u001b[0;31m# iterate over input arrays, possibly in parallel\u001b[0m\u001b[0;34m\u001b[0m\u001b[0;34m\u001b[0m\u001b[0m\n\u001b[1;32m   3327\u001b[0m     \u001b[0;32mwith\u001b[0m \u001b[0mMapWrapper\u001b[0m\u001b[0;34m(\u001b[0m\u001b[0mpool\u001b[0m\u001b[0;34m=\u001b[0m\u001b[0mworkers\u001b[0m\u001b[0;34m)\u001b[0m \u001b[0;32mas\u001b[0m \u001b[0mmapper\u001b[0m\u001b[0;34m:\u001b[0m\u001b[0;34m\u001b[0m\u001b[0;34m\u001b[0m\u001b[0m\n\u001b[0;32m-> 3328\u001b[0;31m         \u001b[0mJout\u001b[0m \u001b[0;34m=\u001b[0m \u001b[0mnp\u001b[0m\u001b[0;34m.\u001b[0m\u001b[0marray\u001b[0m\u001b[0;34m(\u001b[0m\u001b[0mlist\u001b[0m\u001b[0;34m(\u001b[0m\u001b[0mmapper\u001b[0m\u001b[0;34m(\u001b[0m\u001b[0mwrapped_func\u001b[0m\u001b[0;34m,\u001b[0m \u001b[0mgrid\u001b[0m\u001b[0;34m)\u001b[0m\u001b[0;34m)\u001b[0m\u001b[0;34m)\u001b[0m\u001b[0;34m\u001b[0m\u001b[0;34m\u001b[0m\u001b[0m\n\u001b[0m\u001b[1;32m   3329\u001b[0m         \u001b[0;32mif\u001b[0m \u001b[0;34m(\u001b[0m\u001b[0mN\u001b[0m \u001b[0;34m==\u001b[0m \u001b[0;36m1\u001b[0m\u001b[0;34m)\u001b[0m\u001b[0;34m:\u001b[0m\u001b[0;34m\u001b[0m\u001b[0;34m\u001b[0m\u001b[0m\n\u001b[1;32m   3330\u001b[0m             \u001b[0mgrid\u001b[0m \u001b[0;34m=\u001b[0m \u001b[0;34m(\u001b[0m\u001b[0mgrid\u001b[0m\u001b[0;34m,\u001b[0m\u001b[0;34m)\u001b[0m\u001b[0;34m\u001b[0m\u001b[0;34m\u001b[0m\u001b[0m\n",
      "\u001b[0;32m~/.local/lib/python3.10/site-packages/scipy/_lib/_util.py\u001b[0m in \u001b[0;36m__call__\u001b[0;34m(self, func, iterable)\u001b[0m\n\u001b[1;32m    469\u001b[0m         \u001b[0;31m# only accept one iterable because that's all Pool.map accepts\u001b[0m\u001b[0;34m\u001b[0m\u001b[0;34m\u001b[0m\u001b[0m\n\u001b[1;32m    470\u001b[0m         \u001b[0;32mtry\u001b[0m\u001b[0;34m:\u001b[0m\u001b[0;34m\u001b[0m\u001b[0;34m\u001b[0m\u001b[0m\n\u001b[0;32m--> 471\u001b[0;31m             \u001b[0;32mreturn\u001b[0m \u001b[0mself\u001b[0m\u001b[0;34m.\u001b[0m\u001b[0m_mapfunc\u001b[0m\u001b[0;34m(\u001b[0m\u001b[0mfunc\u001b[0m\u001b[0;34m,\u001b[0m \u001b[0miterable\u001b[0m\u001b[0;34m)\u001b[0m\u001b[0;34m\u001b[0m\u001b[0;34m\u001b[0m\u001b[0m\n\u001b[0m\u001b[1;32m    472\u001b[0m         \u001b[0;32mexcept\u001b[0m \u001b[0mTypeError\u001b[0m \u001b[0;32mas\u001b[0m \u001b[0me\u001b[0m\u001b[0;34m:\u001b[0m\u001b[0;34m\u001b[0m\u001b[0;34m\u001b[0m\u001b[0m\n\u001b[1;32m    473\u001b[0m             \u001b[0;31m# wrong number of arguments\u001b[0m\u001b[0;34m\u001b[0m\u001b[0;34m\u001b[0m\u001b[0m\n",
      "\u001b[0;32m/usr/lib/python3.10/multiprocessing/pool.py\u001b[0m in \u001b[0;36mmap\u001b[0;34m(self, func, iterable, chunksize)\u001b[0m\n\u001b[1;32m    362\u001b[0m         \u001b[0;32min\u001b[0m \u001b[0ma\u001b[0m \u001b[0mlist\u001b[0m \u001b[0mthat\u001b[0m \u001b[0;32mis\u001b[0m \u001b[0mreturned\u001b[0m\u001b[0;34m.\u001b[0m\u001b[0;34m\u001b[0m\u001b[0;34m\u001b[0m\u001b[0m\n\u001b[1;32m    363\u001b[0m         '''\n\u001b[0;32m--> 364\u001b[0;31m         \u001b[0;32mreturn\u001b[0m \u001b[0mself\u001b[0m\u001b[0;34m.\u001b[0m\u001b[0m_map_async\u001b[0m\u001b[0;34m(\u001b[0m\u001b[0mfunc\u001b[0m\u001b[0;34m,\u001b[0m \u001b[0miterable\u001b[0m\u001b[0;34m,\u001b[0m \u001b[0mmapstar\u001b[0m\u001b[0;34m,\u001b[0m \u001b[0mchunksize\u001b[0m\u001b[0;34m)\u001b[0m\u001b[0;34m.\u001b[0m\u001b[0mget\u001b[0m\u001b[0;34m(\u001b[0m\u001b[0;34m)\u001b[0m\u001b[0;34m\u001b[0m\u001b[0;34m\u001b[0m\u001b[0m\n\u001b[0m\u001b[1;32m    365\u001b[0m \u001b[0;34m\u001b[0m\u001b[0m\n\u001b[1;32m    366\u001b[0m     \u001b[0;32mdef\u001b[0m \u001b[0mstarmap\u001b[0m\u001b[0;34m(\u001b[0m\u001b[0mself\u001b[0m\u001b[0;34m,\u001b[0m \u001b[0mfunc\u001b[0m\u001b[0;34m,\u001b[0m \u001b[0miterable\u001b[0m\u001b[0;34m,\u001b[0m \u001b[0mchunksize\u001b[0m\u001b[0;34m=\u001b[0m\u001b[0;32mNone\u001b[0m\u001b[0;34m)\u001b[0m\u001b[0;34m:\u001b[0m\u001b[0;34m\u001b[0m\u001b[0;34m\u001b[0m\u001b[0m\n",
      "\u001b[0;32m/usr/lib/python3.10/multiprocessing/pool.py\u001b[0m in \u001b[0;36mget\u001b[0;34m(self, timeout)\u001b[0m\n\u001b[1;32m    763\u001b[0m \u001b[0;34m\u001b[0m\u001b[0m\n\u001b[1;32m    764\u001b[0m     \u001b[0;32mdef\u001b[0m \u001b[0mget\u001b[0m\u001b[0;34m(\u001b[0m\u001b[0mself\u001b[0m\u001b[0;34m,\u001b[0m \u001b[0mtimeout\u001b[0m\u001b[0;34m=\u001b[0m\u001b[0;32mNone\u001b[0m\u001b[0;34m)\u001b[0m\u001b[0;34m:\u001b[0m\u001b[0;34m\u001b[0m\u001b[0;34m\u001b[0m\u001b[0m\n\u001b[0;32m--> 765\u001b[0;31m         \u001b[0mself\u001b[0m\u001b[0;34m.\u001b[0m\u001b[0mwait\u001b[0m\u001b[0;34m(\u001b[0m\u001b[0mtimeout\u001b[0m\u001b[0;34m)\u001b[0m\u001b[0;34m\u001b[0m\u001b[0;34m\u001b[0m\u001b[0m\n\u001b[0m\u001b[1;32m    766\u001b[0m         \u001b[0;32mif\u001b[0m \u001b[0;32mnot\u001b[0m \u001b[0mself\u001b[0m\u001b[0;34m.\u001b[0m\u001b[0mready\u001b[0m\u001b[0;34m(\u001b[0m\u001b[0;34m)\u001b[0m\u001b[0;34m:\u001b[0m\u001b[0;34m\u001b[0m\u001b[0;34m\u001b[0m\u001b[0m\n\u001b[1;32m    767\u001b[0m             \u001b[0;32mraise\u001b[0m \u001b[0mTimeoutError\u001b[0m\u001b[0;34m\u001b[0m\u001b[0;34m\u001b[0m\u001b[0m\n",
      "\u001b[0;32m/usr/lib/python3.10/multiprocessing/pool.py\u001b[0m in \u001b[0;36mwait\u001b[0;34m(self, timeout)\u001b[0m\n\u001b[1;32m    760\u001b[0m \u001b[0;34m\u001b[0m\u001b[0m\n\u001b[1;32m    761\u001b[0m     \u001b[0;32mdef\u001b[0m \u001b[0mwait\u001b[0m\u001b[0;34m(\u001b[0m\u001b[0mself\u001b[0m\u001b[0;34m,\u001b[0m \u001b[0mtimeout\u001b[0m\u001b[0;34m=\u001b[0m\u001b[0;32mNone\u001b[0m\u001b[0;34m)\u001b[0m\u001b[0;34m:\u001b[0m\u001b[0;34m\u001b[0m\u001b[0;34m\u001b[0m\u001b[0m\n\u001b[0;32m--> 762\u001b[0;31m         \u001b[0mself\u001b[0m\u001b[0;34m.\u001b[0m\u001b[0m_event\u001b[0m\u001b[0;34m.\u001b[0m\u001b[0mwait\u001b[0m\u001b[0;34m(\u001b[0m\u001b[0mtimeout\u001b[0m\u001b[0;34m)\u001b[0m\u001b[0;34m\u001b[0m\u001b[0;34m\u001b[0m\u001b[0m\n\u001b[0m\u001b[1;32m    763\u001b[0m \u001b[0;34m\u001b[0m\u001b[0m\n\u001b[1;32m    764\u001b[0m     \u001b[0;32mdef\u001b[0m \u001b[0mget\u001b[0m\u001b[0;34m(\u001b[0m\u001b[0mself\u001b[0m\u001b[0;34m,\u001b[0m \u001b[0mtimeout\u001b[0m\u001b[0;34m=\u001b[0m\u001b[0;32mNone\u001b[0m\u001b[0;34m)\u001b[0m\u001b[0;34m:\u001b[0m\u001b[0;34m\u001b[0m\u001b[0;34m\u001b[0m\u001b[0m\n",
      "\u001b[0;32m/usr/lib/python3.10/threading.py\u001b[0m in \u001b[0;36mwait\u001b[0;34m(self, timeout)\u001b[0m\n\u001b[1;32m    598\u001b[0m             \u001b[0msignaled\u001b[0m \u001b[0;34m=\u001b[0m \u001b[0mself\u001b[0m\u001b[0;34m.\u001b[0m\u001b[0m_flag\u001b[0m\u001b[0;34m\u001b[0m\u001b[0;34m\u001b[0m\u001b[0m\n\u001b[1;32m    599\u001b[0m             \u001b[0;32mif\u001b[0m \u001b[0;32mnot\u001b[0m \u001b[0msignaled\u001b[0m\u001b[0;34m:\u001b[0m\u001b[0;34m\u001b[0m\u001b[0;34m\u001b[0m\u001b[0m\n\u001b[0;32m--> 600\u001b[0;31m                 \u001b[0msignaled\u001b[0m \u001b[0;34m=\u001b[0m \u001b[0mself\u001b[0m\u001b[0;34m.\u001b[0m\u001b[0m_cond\u001b[0m\u001b[0;34m.\u001b[0m\u001b[0mwait\u001b[0m\u001b[0;34m(\u001b[0m\u001b[0mtimeout\u001b[0m\u001b[0;34m)\u001b[0m\u001b[0;34m\u001b[0m\u001b[0;34m\u001b[0m\u001b[0m\n\u001b[0m\u001b[1;32m    601\u001b[0m             \u001b[0;32mreturn\u001b[0m \u001b[0msignaled\u001b[0m\u001b[0;34m\u001b[0m\u001b[0;34m\u001b[0m\u001b[0m\n\u001b[1;32m    602\u001b[0m \u001b[0;34m\u001b[0m\u001b[0m\n",
      "\u001b[0;32m/usr/lib/python3.10/threading.py\u001b[0m in \u001b[0;36mwait\u001b[0;34m(self, timeout)\u001b[0m\n\u001b[1;32m    318\u001b[0m         \u001b[0;32mtry\u001b[0m\u001b[0;34m:\u001b[0m    \u001b[0;31m# restore state no matter what (e.g., KeyboardInterrupt)\u001b[0m\u001b[0;34m\u001b[0m\u001b[0;34m\u001b[0m\u001b[0m\n\u001b[1;32m    319\u001b[0m             \u001b[0;32mif\u001b[0m \u001b[0mtimeout\u001b[0m \u001b[0;32mis\u001b[0m \u001b[0;32mNone\u001b[0m\u001b[0;34m:\u001b[0m\u001b[0;34m\u001b[0m\u001b[0;34m\u001b[0m\u001b[0m\n\u001b[0;32m--> 320\u001b[0;31m                 \u001b[0mwaiter\u001b[0m\u001b[0;34m.\u001b[0m\u001b[0macquire\u001b[0m\u001b[0;34m(\u001b[0m\u001b[0;34m)\u001b[0m\u001b[0;34m\u001b[0m\u001b[0;34m\u001b[0m\u001b[0m\n\u001b[0m\u001b[1;32m    321\u001b[0m                 \u001b[0mgotit\u001b[0m \u001b[0;34m=\u001b[0m \u001b[0;32mTrue\u001b[0m\u001b[0;34m\u001b[0m\u001b[0;34m\u001b[0m\u001b[0m\n\u001b[1;32m    322\u001b[0m             \u001b[0;32melse\u001b[0m\u001b[0;34m:\u001b[0m\u001b[0;34m\u001b[0m\u001b[0;34m\u001b[0m\u001b[0m\n",
      "\u001b[0;31mKeyboardInterrupt\u001b[0m: "
     ]
    }
   ],
   "source": [
    "weights = np.arange(2.5, 7.5, 0.5)\n",
    "error_for_weight = []\n",
    "for w in weights:\n",
    "    errors = []\n",
    "    for SN_file_tuple in tqdm(SN_file_tuples, desc=f\"Weight = {w}\"):\n",
    "        SN_pointer = Supsernova_Pointing([ES], [SN_file_tuple[0]])\n",
    "\n",
    "        def loss_func(x):\n",
    "            return SN_pointer.loss(x, interpolation_override=None, weighting_factor=w)\n",
    "        res = brute(loss_func, ([0, np.pi], [0, 2*np.pi]), Ns=25, \n",
    "                    full_output=False, workers=10, finish=fmin)\n",
    "        errors.append(error(SN_pointer, res))\n",
    "    print(np.quantile(errors, 0.66))\n",
    "    error_for_weight.append(np.quantile(errors, 0.66))"
   ]
  }
 ],
 "metadata": {
  "kernelspec": {
   "display_name": "Python 3 (ipykernel)",
   "language": "python",
   "name": "python3"
  },
  "language_info": {
   "codemirror_mode": {
    "name": "ipython",
    "version": 3
   },
   "file_extension": ".py",
   "mimetype": "text/x-python",
   "name": "python",
   "nbconvert_exporter": "python",
   "pygments_lexer": "ipython3",
   "version": "3.10.4"
  }
 },
 "nbformat": 4,
 "nbformat_minor": 5
}
